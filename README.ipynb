{
 "cells": [
  {
   "cell_type": "markdown",
   "metadata": {},
   "source": [
    "<img src=\"http://mybinder.org/assets/images/logo.svg\" align=\"center\">\n",
    "\n",
    "## <center><font color='gray'>Data analysis and visualization. One click away. Interactive. On your browser.</font></center>"
   ]
  },
  {
   "cell_type": "markdown",
   "metadata": {},
   "source": [
    "\n",
    "\n",
    "<div style=\"\n",
    "            border: 1px solid grey;\n",
    "            border-radius: 15px;\n",
    "            margin: 8px 0 8px 0;\n",
    "            text-align: center;\n",
    "            padding: 8px; \n",
    "               background: linear-gradient(to right, #1e3c72, #2a5298);\">\n",
    "       \n",
    "    <div>\n",
    "     <font color=\"white\" size=\"5\">Here, we provide you with the interactive version of our statistical analyses!</font>\n",
    "    </div>\n",
    "</div>"
   ]
  },
  {
   "cell_type": "markdown",
   "metadata": {},
   "source": [
    "<div style=\"\n",
    "            border: 1px solid grey;\n",
    "            border-radius: 15px;\n",
    "            margin: 8px 0 8px 0;\n",
    "            text-align: center;\n",
    "            padding: 8px; \n",
    "                background: linear-gradient(to right, #457fca, #5691c8);\">\n",
    "             <font color=\"white\" size=\"5\">You can look through the correlation matrices as shown below! </font>   \n",
    "                    <i class=\"fa fa-angle-double-down\"\n",
    "       style=\"font-size: 50px;\n",
    "              line-height: 50px;\n",
    "              margin: 8px;\n",
    "              color: white;\"></i>\n",
    "       \n",
    "    <div>\n",
    "     \n",
    "    \n",
    " \n",
    "    </div>\n",
    "</div>"
   ]
  },
  {
   "cell_type": "markdown",
   "metadata": {},
   "source": [
    "<img src=\"bkhPlot.gif\" >"
   ]
  },
  {
   "cell_type": "markdown",
   "metadata": {},
   "source": [
    "<div style=\"\n",
    "            border: 1px solid grey;\n",
    "            border-radius: 15px;\n",
    "            margin: 8px 0 8px 0;\n",
    "            text-align: center;\n",
    "            padding: 8px; \n",
    "                background: linear-gradient(to right, #457fca, #5691c8);\">\n",
    "             <font color=\"white\" size=\"5\">You can also graph the data:  Select the pair you want and examine scatter plots! </font>   \n",
    "                    <i class=\"fa fa-angle-double-down\"\n",
    "       style=\"font-size: 50px;\n",
    "              line-height: 50px;\n",
    "              margin: 8px;\n",
    "              color: white;\"></i>\n",
    "       \n",
    "    <div>\n",
    "     \n",
    "    \n",
    " \n",
    "    </div>\n",
    "</div>"
   ]
  },
  {
   "cell_type": "markdown",
   "metadata": {},
   "source": [
    "<img src=\"corInteract.gif\" >"
   ]
  },
  {
   "cell_type": "markdown",
   "metadata": {},
   "source": [
    "<div style=\"\n",
    "            border: 1px solid grey;\n",
    "            border-radius: 15px;\n",
    "            margin: 8px 0 8px 0;\n",
    "            text-align: left;\n",
    "            padding: 8px; \n",
    "                  background: linear-gradient(to right, #ece9e6, #ffffff);\">\n",
    "             <font color=\"black\" size=\"5\">All it takes is a few clicks </font>\n",
    "             <br>\n",
    "             <br>\n",
    "             <font color=\"black\" size=\"4\">1) Open the [dogSC notebook](dogSC.ipynb) and follow the instructions. This Octave notebook will make the calculations and save the data needed for visualization.  </font>  \n",
    "             <br>\n",
    "             <br>\n",
    "             <font color=\"black\" size=\"4\">2) Time for visualization! Open the [bokehCorPlot notebook](bokehCorPlot.ipynb) and follow the instructions. You can interact with the outputs as shown above!  </font>\n",
    "    <div>\n",
    "     \n",
    "    \n",
    " \n",
    "    </div>\n",
    "</div>"
   ]
  },
  {
   "cell_type": "markdown",
   "metadata": {},
   "source": [
    "<center><i class=\"fa fa-university\" aria-hidden=\"true\" style=\"font-size: 80px; text-align: center; padding: 8px\"></i></center>\n",
    "\n",
    "  \n",
    "    \n",
    "<center>The MIT License (MIT)</center>\n",
    "\n",
    "<center>Copyright (c) 2014 Ecole Polytechnique, Université de Montréal</center>\n",
    "\n",
    "Permission is hereby granted, free of charge, to any person obtaining a copy\n",
    "of this software and associated documentation files (the \"Software\"), to deal\n",
    "in the Software without restriction, including without limitation the rights\n",
    "to use, copy, modify, merge, publish, distribute, sublicense, and/or sell\n",
    "copies of the Software, and to permit persons to whom the Software is\n",
    "furnished to do so, subject to the following conditions:\n",
    "\n",
    "The above copyright notice and this permission notice shall be included in all\n",
    "copies or substantial portions of the Software.\n",
    "\n",
    "THE SOFTWARE IS PROVIDED \"AS IS\", WITHOUT WARRANTY OF ANY KIND, EXPRESS OR\n",
    "IMPLIED, INCLUDING BUT NOT LIMITED TO THE WARRANTIES OF MERCHANTABILITY,\n",
    "FITNESS FOR A PARTICULAR PURPOSE AND NONINFRINGEMENT. IN NO EVENT SHALL THE\n",
    "AUTHORS OR COPYRIGHT HOLDERS BE LIABLE FOR ANY CLAIM, DAMAGES OR OTHER\n",
    "LIABILITY, WHETHER IN AN ACTION OF CONTRACT, TORT OR OTHERWISE, ARISING FROM,\n",
    "OUT OF OR IN CONNECTION WITH THE SOFTWARE OR THE USE OR OTHER DEALINGS IN THE\n",
    "SOFTWARE.\n",
    "\n",
    "\n",
    "<img src=\"https://avatars3.githubusercontent.com/u/7755716?v=4&s=200\" align=\"center\" style=\"width:128px;height:128px;\">\n",
    "\n"
   ]
  }
 ],
 "metadata": {
  "kernelspec": {
   "display_name": "Python 2",
   "language": "python",
   "name": "python2"
  },
  "language_info": {
   "codemirror_mode": {
    "name": "ipython",
    "version": 2
   },
   "file_extension": ".py",
   "mimetype": "text/x-python",
   "name": "python",
   "nbconvert_exporter": "python",
   "pygments_lexer": "ipython2",
   "version": "2.7.13"
  }
 },
 "nbformat": 4,
 "nbformat_minor": 2
}
