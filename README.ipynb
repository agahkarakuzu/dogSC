{
 "cells": [
  {
   "cell_type": "markdown",
   "metadata": {},
   "source": [
    "<img src=\"http://mybinder.org/assets/images/logo.svg\" align=\"center\">\n",
    "\n",
    "## <center><font color='gray'>Data analysis and visualization. One click away. Interactive. On your browser.</font></center>"
   ]
  },
  {
   "cell_type": "markdown",
   "metadata": {},
   "source": [
    "\n",
    "\n",
    "# <font color='darkorange'>Please follow these steps:</font>\n",
    "\n",
    "### <font color='gray'>1. Open [dogSC notebook](dogSC.ipynb) and follow the instructions to calculate correlations among dog spinal cord data containing quantitative MR images from two scan sessions and a histology image, which is registered on those images. This Octave-based notebook will save the required inputs for the second notebook.</font>\n",
    "\n",
    "### <font color='gray'>2. After running dogSC notebook, open [bokehCorPlot notebook](bokehCorPlot.ipynb) and follow the instructions. This will visualize the results by reading the output from the previous notebook. </font>\n",
    "<hr>"
   ]
  },
  {
   "cell_type": "markdown",
   "metadata": {},
   "source": [
    "<center><i class=\"fa fa-university\" aria-hidden=\"true\" style=\"font-size: 80px; text-align: center; padding: 8px\"></i></center>\n",
    "\n",
    "  \n",
    "    \n",
    "<center>The MIT License (MIT)</center>\n",
    "\n",
    "<center>Copyright (c) 2014 Ecole Polytechnique, Université de Montréal</center>\n",
    "\n",
    "Permission is hereby granted, free of charge, to any person obtaining a copy\n",
    "of this software and associated documentation files (the \"Software\"), to deal\n",
    "in the Software without restriction, including without limitation the rights\n",
    "to use, copy, modify, merge, publish, distribute, sublicense, and/or sell\n",
    "copies of the Software, and to permit persons to whom the Software is\n",
    "furnished to do so, subject to the following conditions:\n",
    "\n",
    "The above copyright notice and this permission notice shall be included in all\n",
    "copies or substantial portions of the Software.\n",
    "\n",
    "THE SOFTWARE IS PROVIDED \"AS IS\", WITHOUT WARRANTY OF ANY KIND, EXPRESS OR\n",
    "IMPLIED, INCLUDING BUT NOT LIMITED TO THE WARRANTIES OF MERCHANTABILITY,\n",
    "FITNESS FOR A PARTICULAR PURPOSE AND NONINFRINGEMENT. IN NO EVENT SHALL THE\n",
    "AUTHORS OR COPYRIGHT HOLDERS BE LIABLE FOR ANY CLAIM, DAMAGES OR OTHER\n",
    "LIABILITY, WHETHER IN AN ACTION OF CONTRACT, TORT OR OTHERWISE, ARISING FROM,\n",
    "OUT OF OR IN CONNECTION WITH THE SOFTWARE OR THE USE OR OTHER DEALINGS IN THE\n",
    "SOFTWARE.\n",
    "\n",
    "\n",
    "<img src=\"https://avatars3.githubusercontent.com/u/7755716?v=4&s=200\" align=\"center\" style=\"width:128px;height:128px;\">\n",
    "\n"
   ]
  }
 ],
 "metadata": {
  "kernelspec": {
   "display_name": "Python 2",
   "language": "python",
   "name": "python2"
  },
  "language_info": {
   "codemirror_mode": {
    "name": "ipython",
    "version": 2
   },
   "file_extension": ".py",
   "mimetype": "text/x-python",
   "name": "python",
   "nbconvert_exporter": "python",
   "pygments_lexer": "ipython2",
   "version": "2.7.13"
  }
 },
 "nbformat": 4,
 "nbformat_minor": 2
}
